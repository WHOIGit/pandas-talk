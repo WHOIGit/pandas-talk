{
 "cells": [
  {
   "cell_type": "code",
   "execution_count": 1,
   "metadata": {},
   "outputs": [
    {
     "data": {
      "text/plain": [
       "Timestamp('2019-07-22 00:00:00')"
      ]
     },
     "execution_count": 1,
     "metadata": {},
     "output_type": "execute_result"
    }
   ],
   "source": [
    "# parse dates and times using Pandas' \"to_datetime\" function\n",
    "import pandas as pd\n",
    "\n",
    "pd.to_datetime('2019-07-22')"
   ]
  },
  {
   "cell_type": "code",
   "execution_count": 2,
   "metadata": {},
   "outputs": [],
   "source": [
    "# pandas uses the terms \"datetime\" and \"timestamp\" to mean\n",
    "# pretty much the same thing"
   ]
  },
  {
   "cell_type": "code",
   "execution_count": 3,
   "metadata": {},
   "outputs": [
    {
     "data": {
      "text/plain": [
       "Timestamp('2019-07-22 12:34:56')"
      ]
     },
     "execution_count": 3,
     "metadata": {},
     "output_type": "execute_result"
    }
   ],
   "source": [
    "# pandas will infer the format if it's not ambiguous\n",
    "pd.to_datetime('July 22, 2019 12:34:56')"
   ]
  },
  {
   "cell_type": "code",
   "execution_count": 4,
   "metadata": {},
   "outputs": [
    {
     "data": {
      "text/plain": [
       "Timestamp('2019-07-22 00:00:00')"
      ]
     },
     "execution_count": 4,
     "metadata": {},
     "output_type": "execute_result"
    }
   ],
   "source": [
    "pd.to_datetime('7/22/2019')"
   ]
  },
  {
   "cell_type": "code",
   "execution_count": 5,
   "metadata": {},
   "outputs": [
    {
     "data": {
      "text/plain": [
       "Timestamp('2019-07-22 13:30:00')"
      ]
     },
     "execution_count": 5,
     "metadata": {},
     "output_type": "execute_result"
    }
   ],
   "source": [
    "pd.to_datetime('22 Jul 2019 1:30pm')"
   ]
  },
  {
   "cell_type": "code",
   "execution_count": 6,
   "metadata": {},
   "outputs": [
    {
     "data": {
      "text/plain": [
       "Timestamp('2019-07-22 18:30:00+0000', tz='UTC')"
      ]
     },
     "execution_count": 6,
     "metadata": {},
     "output_type": "execute_result"
    }
   ],
   "source": [
    "# you should probably be using the UTC timezone for everything\n",
    "# to do this, pass utc=True to to_datetime\n",
    "# note how a timezone offset is shown\n",
    "pd.to_datetime('22 July 2019 6:30pm', utc=True)"
   ]
  },
  {
   "cell_type": "code",
   "execution_count": 7,
   "metadata": {},
   "outputs": [
    {
     "data": {
      "text/plain": [
       "Timedelta('2 days 00:00:00')"
      ]
     },
     "execution_count": 7,
     "metadata": {},
     "output_type": "execute_result"
    }
   ],
   "source": [
    "# represent relative times\n",
    "pd.to_timedelta('2d')"
   ]
  },
  {
   "cell_type": "code",
   "execution_count": 8,
   "metadata": {},
   "outputs": [
    {
     "data": {
      "text/plain": [
       "Timestamp('2019-07-19 07:18:45.413542+0000', tz='UTC')"
      ]
     },
     "execution_count": 8,
     "metadata": {},
     "output_type": "execute_result"
    }
   ],
   "source": [
    "# do date arithmetic\n",
    "from datetime import datetime\n",
    "\n",
    "current_time = pd.to_datetime(datetime.utcnow(), utc=True)\n",
    "current_time + pd.to_timedelta('12h')"
   ]
  },
  {
   "cell_type": "code",
   "execution_count": 9,
   "metadata": {},
   "outputs": [
    {
     "data": {
      "text/plain": [
       "Timedelta('-4 days +03:18:45.413542')"
      ]
     },
     "execution_count": 9,
     "metadata": {},
     "output_type": "execute_result"
    }
   ],
   "source": [
    "current_time - pd.to_datetime('July 22 2019 16:00', utc=True)"
   ]
  },
  {
   "cell_type": "code",
   "execution_count": 10,
   "metadata": {},
   "outputs": [
    {
     "data": {
      "text/plain": [
       "Timestamp('2019-07-22 12:34:56')"
      ]
     },
     "execution_count": 10,
     "metadata": {},
     "output_type": "execute_result"
    }
   ],
   "source": [
    "# timestamps in pandas are either \"timezone-aware\" or not.\n",
    "# temporal operations won't work between timezone-aware and\n",
    "# non-timezone-aware timestamps\n",
    "\n",
    "# here's a non-timezone-aware timestamp\n",
    "time_a = pd.to_datetime('2019-07-22 12:34:56')\n",
    "time_a"
   ]
  },
  {
   "cell_type": "code",
   "execution_count": 11,
   "metadata": {},
   "outputs": [
    {
     "data": {
      "text/plain": [
       "Timestamp('2019-07-22 12:34:56+0000', tz='UTC')"
      ]
     },
     "execution_count": 11,
     "metadata": {},
     "output_type": "execute_result"
    }
   ],
   "source": [
    "# if your string has a timezone notation in it, Pandas will parse it\n",
    "time_b = pd.to_datetime('2019-07-22 12:34:56 +0000')\n",
    "time_b"
   ]
  },
  {
   "cell_type": "code",
   "execution_count": 12,
   "metadata": {},
   "outputs": [
    {
     "data": {
      "text/plain": [
       "Timestamp('2019-07-22 12:34:56+0000', tz='UTC')"
      ]
     },
     "execution_count": 12,
     "metadata": {},
     "output_type": "execute_result"
    }
   ],
   "source": [
    "# if it doesn't, use utc=True when parsing\n",
    "time_c = pd.to_datetime('2019-07-22 12:34:56', utc=True)\n",
    "time_c"
   ]
  },
  {
   "cell_type": "code",
   "execution_count": 13,
   "metadata": {},
   "outputs": [
    {
     "name": "stdout",
     "output_type": "stream",
     "text": [
      "Cannot compare tz-naive and tz-aware timestamps\n"
     ]
    }
   ],
   "source": [
    "# time operations like comparison do not work unless\n",
    "# either both timezones are non-timezone-aware or\n",
    "# they are both timezone-aware\n",
    "\n",
    "try:\n",
    "    time_a > time_b\n",
    "except TypeError as e:\n",
    "    print(e)"
   ]
  },
  {
   "cell_type": "code",
   "execution_count": 14,
   "metadata": {},
   "outputs": [],
   "source": [
    "# ^ this comes up in Pandas applications all the time\n",
    "# because a lot of tabular data uses timestamps with no timezone notation\n",
    "\n",
    "# always use utc=True, unless you're using a different timezone"
   ]
  },
  {
   "cell_type": "code",
   "execution_count": 15,
   "metadata": {},
   "outputs": [
    {
     "data": {
      "text/plain": [
       "DatetimeIndex(['1969-10-27 00:00:00+00:00', '1971-03-14 00:00:00+00:00',\n",
       "               '2009-07-04 00:00:00+00:00'],\n",
       "              dtype='datetime64[ns, UTC]', freq=None)"
      ]
     },
     "execution_count": 15,
     "metadata": {},
     "output_type": "execute_result"
    }
   ],
   "source": [
    "# note that to_datetime works for iterables including arrays\n",
    "# and Pandas Series\n",
    "\n",
    "time_strings = [\n",
    "    '1969-10-27',\n",
    "    '1971-03-14',\n",
    "    '2009-07-04'\n",
    "]\n",
    "timestamps = pd.to_datetime(time_strings, utc=True)\n",
    "timestamps"
   ]
  },
  {
   "cell_type": "code",
   "execution_count": 16,
   "metadata": {},
   "outputs": [
    {
     "data": {
      "text/plain": [
       "DatetimeIndex(['1969-10-28 00:00:00+00:00', '1971-03-15 00:00:00+00:00',\n",
       "               '2009-07-05 00:00:00+00:00'],\n",
       "              dtype='datetime64[ns, UTC]', freq=None)"
      ]
     },
     "execution_count": 16,
     "metadata": {},
     "output_type": "execute_result"
    }
   ],
   "source": [
    "# and operations on them are vectorized\n",
    "a_day = pd.to_timedelta('1d')\n",
    "\n",
    "timestamps + a_day"
   ]
  },
  {
   "cell_type": "code",
   "execution_count": 17,
   "metadata": {},
   "outputs": [
    {
     "data": {
      "text/plain": [
       "array([False, False,  True])"
      ]
     },
     "execution_count": 17,
     "metadata": {},
     "output_type": "execute_result"
    }
   ],
   "source": [
    "timestamps > pd.to_datetime('2000-01-01', utc=True)"
   ]
  }
 ],
 "metadata": {
  "kernelspec": {
   "display_name": "Python [conda env:nes-lter-ims-dev]",
   "language": "python",
   "name": "conda-env-nes-lter-ims-dev-py"
  },
  "language_info": {
   "codemirror_mode": {
    "name": "ipython",
    "version": 3
   },
   "file_extension": ".py",
   "mimetype": "text/x-python",
   "name": "python",
   "nbconvert_exporter": "python",
   "pygments_lexer": "ipython3",
   "version": "3.6.6"
  }
 },
 "nbformat": 4,
 "nbformat_minor": 2
}
