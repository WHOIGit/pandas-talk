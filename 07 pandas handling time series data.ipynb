{
 "cells": [
  {
   "cell_type": "code",
   "execution_count": 1,
   "metadata": {},
   "outputs": [
    {
     "data": {
      "text/html": [
       "<div>\n",
       "<style scoped>\n",
       "    .dataframe tbody tr th:only-of-type {\n",
       "        vertical-align: middle;\n",
       "    }\n",
       "\n",
       "    .dataframe tbody tr th {\n",
       "        vertical-align: top;\n",
       "    }\n",
       "\n",
       "    .dataframe thead th {\n",
       "        text-align: right;\n",
       "    }\n",
       "</style>\n",
       "<table border=\"1\" class=\"dataframe\">\n",
       "  <thead>\n",
       "    <tr style=\"text-align: right;\">\n",
       "      <th></th>\n",
       "      <th>datetime_unix</th>\n",
       "      <th>datetime_decimaldoy</th>\n",
       "      <th>gps_furuno_utcoffix</th>\n",
       "      <th>gps_furuno_latitude</th>\n",
       "      <th>gps_furuno_longitude</th>\n",
       "      <th>gps_furuno_quality</th>\n",
       "      <th>gps_furuno_satsinuse</th>\n",
       "      <th>gps_furuno_hdop</th>\n",
       "      <th>gps_furuno_diffage</th>\n",
       "      <th>gps_furuno_tmg</th>\n",
       "      <th>...</th>\n",
       "      <th>imu_spatialdual_heading</th>\n",
       "      <th>imu_spatialdual_headingstddev</th>\n",
       "      <th>imu_spatialdual_navigationflag</th>\n",
       "      <th>imu_spatialdual_heaveunit</th>\n",
       "      <th>imu_spatialdual_heavecog</th>\n",
       "      <th>imu_spatialdual_heavestern</th>\n",
       "      <th>imu_spatialdual_heavejframe</th>\n",
       "      <th>tsg1_fluorometer2_v1</th>\n",
       "      <th>tsg1_fluorescence_wetstar</th>\n",
       "      <th>tsg1_fluorescence_ecofl</th>\n",
       "    </tr>\n",
       "    <tr>\n",
       "      <th>date</th>\n",
       "      <th></th>\n",
       "      <th></th>\n",
       "      <th></th>\n",
       "      <th></th>\n",
       "      <th></th>\n",
       "      <th></th>\n",
       "      <th></th>\n",
       "      <th></th>\n",
       "      <th></th>\n",
       "      <th></th>\n",
       "      <th></th>\n",
       "      <th></th>\n",
       "      <th></th>\n",
       "      <th></th>\n",
       "      <th></th>\n",
       "      <th></th>\n",
       "      <th></th>\n",
       "      <th></th>\n",
       "      <th></th>\n",
       "      <th></th>\n",
       "      <th></th>\n",
       "    </tr>\n",
       "  </thead>\n",
       "  <tbody>\n",
       "    <tr>\n",
       "      <th>2018-07-20 00:00:00+00:00</th>\n",
       "      <td>1532044800000</td>\n",
       "      <td>200.000000</td>\n",
       "      <td>235959</td>\n",
       "      <td>41.4922</td>\n",
       "      <td>-71.4187</td>\n",
       "      <td>2</td>\n",
       "      <td>7</td>\n",
       "      <td>0.4</td>\n",
       "      <td>NaN</td>\n",
       "      <td>230.3</td>\n",
       "      <td>...</td>\n",
       "      <td>146.24</td>\n",
       "      <td>0.11</td>\n",
       "      <td>2</td>\n",
       "      <td>0.003</td>\n",
       "      <td>0.004</td>\n",
       "      <td>0.014</td>\n",
       "      <td>0.011</td>\n",
       "      <td>NaN</td>\n",
       "      <td>NaN</td>\n",
       "      <td>NaN</td>\n",
       "    </tr>\n",
       "    <tr>\n",
       "      <th>2018-07-20 00:01:00+00:00</th>\n",
       "      <td>1532044860000</td>\n",
       "      <td>200.000694</td>\n",
       "      <td>100</td>\n",
       "      <td>41.4922</td>\n",
       "      <td>-71.4187</td>\n",
       "      <td>2</td>\n",
       "      <td>7</td>\n",
       "      <td>0.4</td>\n",
       "      <td>NaN</td>\n",
       "      <td>230.3</td>\n",
       "      <td>...</td>\n",
       "      <td>146.16</td>\n",
       "      <td>0.11</td>\n",
       "      <td>2</td>\n",
       "      <td>0.001</td>\n",
       "      <td>-0.002</td>\n",
       "      <td>0.062</td>\n",
       "      <td>0.026</td>\n",
       "      <td>NaN</td>\n",
       "      <td>NaN</td>\n",
       "      <td>NaN</td>\n",
       "    </tr>\n",
       "    <tr>\n",
       "      <th>2018-07-20 00:02:00+00:00</th>\n",
       "      <td>1532044920000</td>\n",
       "      <td>200.001389</td>\n",
       "      <td>200</td>\n",
       "      <td>41.4922</td>\n",
       "      <td>-71.4187</td>\n",
       "      <td>2</td>\n",
       "      <td>7</td>\n",
       "      <td>0.4</td>\n",
       "      <td>NaN</td>\n",
       "      <td>230.3</td>\n",
       "      <td>...</td>\n",
       "      <td>146.05</td>\n",
       "      <td>0.11</td>\n",
       "      <td>2</td>\n",
       "      <td>-0.025</td>\n",
       "      <td>-0.010</td>\n",
       "      <td>-0.038</td>\n",
       "      <td>-0.002</td>\n",
       "      <td>NaN</td>\n",
       "      <td>NaN</td>\n",
       "      <td>NaN</td>\n",
       "    </tr>\n",
       "    <tr>\n",
       "      <th>2018-07-20 00:03:00+00:00</th>\n",
       "      <td>1532044980000</td>\n",
       "      <td>200.002083</td>\n",
       "      <td>259</td>\n",
       "      <td>41.4922</td>\n",
       "      <td>-71.4187</td>\n",
       "      <td>2</td>\n",
       "      <td>7</td>\n",
       "      <td>0.4</td>\n",
       "      <td>NaN</td>\n",
       "      <td>230.3</td>\n",
       "      <td>...</td>\n",
       "      <td>146.15</td>\n",
       "      <td>0.11</td>\n",
       "      <td>2</td>\n",
       "      <td>0.000</td>\n",
       "      <td>0.002</td>\n",
       "      <td>0.030</td>\n",
       "      <td>0.020</td>\n",
       "      <td>NaN</td>\n",
       "      <td>NaN</td>\n",
       "      <td>NaN</td>\n",
       "    </tr>\n",
       "    <tr>\n",
       "      <th>2018-07-20 00:04:00+00:00</th>\n",
       "      <td>1532045040000</td>\n",
       "      <td>200.002778</td>\n",
       "      <td>359</td>\n",
       "      <td>41.4922</td>\n",
       "      <td>-71.4187</td>\n",
       "      <td>2</td>\n",
       "      <td>7</td>\n",
       "      <td>0.4</td>\n",
       "      <td>NaN</td>\n",
       "      <td>230.3</td>\n",
       "      <td>...</td>\n",
       "      <td>146.01</td>\n",
       "      <td>0.10</td>\n",
       "      <td>2</td>\n",
       "      <td>-0.008</td>\n",
       "      <td>-0.021</td>\n",
       "      <td>0.003</td>\n",
       "      <td>-0.030</td>\n",
       "      <td>NaN</td>\n",
       "      <td>NaN</td>\n",
       "      <td>NaN</td>\n",
       "    </tr>\n",
       "  </tbody>\n",
       "</table>\n",
       "<p>5 rows × 127 columns</p>\n",
       "</div>"
      ],
      "text/plain": [
       "                           datetime_unix  datetime_decimaldoy  \\\n",
       "date                                                            \n",
       "2018-07-20 00:00:00+00:00  1532044800000           200.000000   \n",
       "2018-07-20 00:01:00+00:00  1532044860000           200.000694   \n",
       "2018-07-20 00:02:00+00:00  1532044920000           200.001389   \n",
       "2018-07-20 00:03:00+00:00  1532044980000           200.002083   \n",
       "2018-07-20 00:04:00+00:00  1532045040000           200.002778   \n",
       "\n",
       "                           gps_furuno_utcoffix  gps_furuno_latitude  \\\n",
       "date                                                                  \n",
       "2018-07-20 00:00:00+00:00               235959              41.4922   \n",
       "2018-07-20 00:01:00+00:00                  100              41.4922   \n",
       "2018-07-20 00:02:00+00:00                  200              41.4922   \n",
       "2018-07-20 00:03:00+00:00                  259              41.4922   \n",
       "2018-07-20 00:04:00+00:00                  359              41.4922   \n",
       "\n",
       "                           gps_furuno_longitude  gps_furuno_quality  \\\n",
       "date                                                                  \n",
       "2018-07-20 00:00:00+00:00              -71.4187                   2   \n",
       "2018-07-20 00:01:00+00:00              -71.4187                   2   \n",
       "2018-07-20 00:02:00+00:00              -71.4187                   2   \n",
       "2018-07-20 00:03:00+00:00              -71.4187                   2   \n",
       "2018-07-20 00:04:00+00:00              -71.4187                   2   \n",
       "\n",
       "                           gps_furuno_satsinuse  gps_furuno_hdop  \\\n",
       "date                                                               \n",
       "2018-07-20 00:00:00+00:00                     7              0.4   \n",
       "2018-07-20 00:01:00+00:00                     7              0.4   \n",
       "2018-07-20 00:02:00+00:00                     7              0.4   \n",
       "2018-07-20 00:03:00+00:00                     7              0.4   \n",
       "2018-07-20 00:04:00+00:00                     7              0.4   \n",
       "\n",
       "                           gps_furuno_diffage  gps_furuno_tmg  ...  \\\n",
       "date                                                           ...   \n",
       "2018-07-20 00:00:00+00:00                 NaN           230.3  ...   \n",
       "2018-07-20 00:01:00+00:00                 NaN           230.3  ...   \n",
       "2018-07-20 00:02:00+00:00                 NaN           230.3  ...   \n",
       "2018-07-20 00:03:00+00:00                 NaN           230.3  ...   \n",
       "2018-07-20 00:04:00+00:00                 NaN           230.3  ...   \n",
       "\n",
       "                           imu_spatialdual_heading  \\\n",
       "date                                                 \n",
       "2018-07-20 00:00:00+00:00                   146.24   \n",
       "2018-07-20 00:01:00+00:00                   146.16   \n",
       "2018-07-20 00:02:00+00:00                   146.05   \n",
       "2018-07-20 00:03:00+00:00                   146.15   \n",
       "2018-07-20 00:04:00+00:00                   146.01   \n",
       "\n",
       "                           imu_spatialdual_headingstddev  \\\n",
       "date                                                       \n",
       "2018-07-20 00:00:00+00:00                           0.11   \n",
       "2018-07-20 00:01:00+00:00                           0.11   \n",
       "2018-07-20 00:02:00+00:00                           0.11   \n",
       "2018-07-20 00:03:00+00:00                           0.11   \n",
       "2018-07-20 00:04:00+00:00                           0.10   \n",
       "\n",
       "                           imu_spatialdual_navigationflag  \\\n",
       "date                                                        \n",
       "2018-07-20 00:00:00+00:00                               2   \n",
       "2018-07-20 00:01:00+00:00                               2   \n",
       "2018-07-20 00:02:00+00:00                               2   \n",
       "2018-07-20 00:03:00+00:00                               2   \n",
       "2018-07-20 00:04:00+00:00                               2   \n",
       "\n",
       "                           imu_spatialdual_heaveunit  \\\n",
       "date                                                   \n",
       "2018-07-20 00:00:00+00:00                      0.003   \n",
       "2018-07-20 00:01:00+00:00                      0.001   \n",
       "2018-07-20 00:02:00+00:00                     -0.025   \n",
       "2018-07-20 00:03:00+00:00                      0.000   \n",
       "2018-07-20 00:04:00+00:00                     -0.008   \n",
       "\n",
       "                           imu_spatialdual_heavecog  \\\n",
       "date                                                  \n",
       "2018-07-20 00:00:00+00:00                     0.004   \n",
       "2018-07-20 00:01:00+00:00                    -0.002   \n",
       "2018-07-20 00:02:00+00:00                    -0.010   \n",
       "2018-07-20 00:03:00+00:00                     0.002   \n",
       "2018-07-20 00:04:00+00:00                    -0.021   \n",
       "\n",
       "                           imu_spatialdual_heavestern  \\\n",
       "date                                                    \n",
       "2018-07-20 00:00:00+00:00                       0.014   \n",
       "2018-07-20 00:01:00+00:00                       0.062   \n",
       "2018-07-20 00:02:00+00:00                      -0.038   \n",
       "2018-07-20 00:03:00+00:00                       0.030   \n",
       "2018-07-20 00:04:00+00:00                       0.003   \n",
       "\n",
       "                           imu_spatialdual_heavejframe  tsg1_fluorometer2_v1  \\\n",
       "date                                                                           \n",
       "2018-07-20 00:00:00+00:00                        0.011                   NaN   \n",
       "2018-07-20 00:01:00+00:00                        0.026                   NaN   \n",
       "2018-07-20 00:02:00+00:00                       -0.002                   NaN   \n",
       "2018-07-20 00:03:00+00:00                        0.020                   NaN   \n",
       "2018-07-20 00:04:00+00:00                       -0.030                   NaN   \n",
       "\n",
       "                           tsg1_fluorescence_wetstar  tsg1_fluorescence_ecofl  \n",
       "date                                                                           \n",
       "2018-07-20 00:00:00+00:00                        NaN                      NaN  \n",
       "2018-07-20 00:01:00+00:00                        NaN                      NaN  \n",
       "2018-07-20 00:02:00+00:00                        NaN                      NaN  \n",
       "2018-07-20 00:03:00+00:00                        NaN                      NaN  \n",
       "2018-07-20 00:04:00+00:00                        NaN                      NaN  \n",
       "\n",
       "[5 rows x 127 columns]"
      ]
     },
     "execution_count": 1,
     "metadata": {},
     "output_type": "execute_result"
    }
   ],
   "source": [
    "# let's read some oceanographic data\n",
    "import pandas as pd\n",
    "\n",
    "data_url = 'https://nes-lter-data.whoi.edu/api/underway/en617.csv'\n",
    "\n",
    "uw = pd.read_csv(data_url,\n",
    "                 parse_dates=['date'], index_col='date')\n",
    "uw.head()"
   ]
  },
  {
   "cell_type": "code",
   "execution_count": 2,
   "metadata": {},
   "outputs": [
    {
     "data": {
      "text/plain": [
       "['datetime_unix',\n",
       " 'datetime_decimaldoy',\n",
       " 'gps_furuno_utcoffix',\n",
       " 'gps_furuno_latitude',\n",
       " 'gps_furuno_longitude',\n",
       " 'gps_furuno_quality',\n",
       " 'gps_furuno_satsinuse',\n",
       " 'gps_furuno_hdop',\n",
       " 'gps_furuno_diffage',\n",
       " 'gps_furuno_tmg',\n",
       " 'gps_furuno_smg',\n",
       " 'gps_garmin741_utcoffix',\n",
       " 'gps_garmin741_latitude',\n",
       " 'gps_garmin741_longitude',\n",
       " 'gps_garmin741_quality',\n",
       " 'gps_garmin741_satsinuse',\n",
       " 'gps_garmin741_hdop',\n",
       " 'gps_garmin741_diffage',\n",
       " 'gps_garmin741_tmg',\n",
       " 'gps_garmin741_smg',\n",
       " 'gps_nstarwaas_utcoffix',\n",
       " 'gps_nstarwaas_latitude',\n",
       " 'gps_nstarwaas_longitude',\n",
       " 'gps_nstarwaas_quality',\n",
       " 'gps_nstarwaas_satsinuse',\n",
       " 'gps_nstarwaas_hdop',\n",
       " 'gps_nstarwaas_diffage',\n",
       " 'gps_nstarwaas_tmg',\n",
       " 'gps_nstarwaas_smg',\n",
       " 'gps_spectracom_utcoffix',\n",
       " 'gps_spectracom_latitude',\n",
       " 'gps_spectracom_longitude',\n",
       " 'gps_spectracom_quality',\n",
       " 'gps_spectracom_satsinuse',\n",
       " 'gps_spectracom_hdop',\n",
       " 'gps_spectracom_diffage',\n",
       " 'gps_spectracom_utc',\n",
       " 'gps_spectracom_year',\n",
       " 'gnss_adu2_utcoffix',\n",
       " 'gnss_adu2_latitude',\n",
       " 'gnss_adu2_longitude',\n",
       " 'gnss_adu2_heading',\n",
       " 'gnss_adu2_pitch',\n",
       " 'gnss_adu2_roll',\n",
       " 'gnss_adu2_mrms',\n",
       " 'gnss_adu2_brms',\n",
       " 'gnss_adu2_flag',\n",
       " 'gnss_adu5_utcoffix',\n",
       " 'gnss_adu5_latitude',\n",
       " 'gnss_adu5_longitude',\n",
       " 'gnss_adu5_heading',\n",
       " 'gnss_adu5_pitch',\n",
       " 'gnss_adu5_roll',\n",
       " 'gnss_adu5_mrms',\n",
       " 'gnss_adu5_brms',\n",
       " 'gnss_adu5_flag',\n",
       " 'gyro1_heading',\n",
       " 'gyro2_heading',\n",
       " 'met_rmy_bow_airtemp',\n",
       " 'met_rmy_bow_baropressure',\n",
       " 'met_rmy_bow_relhumidity',\n",
       " 'met_rmy_trans_airtemp',\n",
       " 'met_rmy_trans_baropressure',\n",
       " 'met_rmy_transprecipcurr24hr',\n",
       " 'met_rmy_trans_precipcurrhr',\n",
       " 'met_rmy_trans_preciplast24hr',\n",
       " 'met_rmy_trans_preciplasthr',\n",
       " 'met_rmy_trans_preciprate',\n",
       " 'met_rmy_trans_relhumidity',\n",
       " 'met_rmy_trans_sst1',\n",
       " 'met_rmy_trans_sst5',\n",
       " 'rad1_lw',\n",
       " 'rad1_sw',\n",
       " 'rad2_lw',\n",
       " 'rad2_sw',\n",
       " 'singlebeam_knudsen_depthhf',\n",
       " 'singlebeam_knudsen_validhf',\n",
       " 'singlebeam_knudsen_ducerdephf',\n",
       " 'singlebeam_knudsen_depthlf',\n",
       " 'singlebeam_knudsen_validlf',\n",
       " 'singlebeam_knudsen_ducerdeplf',\n",
       " 'singlebeam_knudsen_soundspeed',\n",
       " 'speedlog_waterspeedfwd',\n",
       " 'speedlog_waterspeedtrans',\n",
       " 'speedlog_groundspeedfwd',\n",
       " 'speedlog_groundspeedtrans',\n",
       " 'time_truetime_yearday',\n",
       " 'time_truetime_hms',\n",
       " 'tsg1_conductivity',\n",
       " 'tsg1_fluorometer1_v0',\n",
       " 'tsg1_salinity',\n",
       " 'tsg1_soundvelocity',\n",
       " 'tsg1_sst',\n",
       " 'tsg1_temperature',\n",
       " 'tsg2_conductivity',\n",
       " 'tsg2_salinity',\n",
       " 'tsg2_soundvelocity',\n",
       " 'tsg2_temperature',\n",
       " 'wind_gill_bow_windreldir',\n",
       " 'wind_gill_bow_windrelspd',\n",
       " 'wind_gill_bow_windstatus',\n",
       " 'wind_gill_port_windreldir',\n",
       " 'wind_gill_port_windrelspd',\n",
       " 'wind_gill_port_windstatus',\n",
       " 'wind_gill_ps_windreldir',\n",
       " 'wind_gill_ps_windrelspd',\n",
       " 'wind_gill_stbd_windreldir',\n",
       " 'wind_gill_stbd_windrelspd',\n",
       " 'wind_gill_stbd_windstatus',\n",
       " 'wind_truewindbow_direction',\n",
       " 'wind_truewindbow_speed',\n",
       " 'wind_truewindport_direction',\n",
       " 'wind_truewindport_speed',\n",
       " 'wind_truewindps_direction',\n",
       " 'wind_truewindps_speed',\n",
       " 'wind_truewindstbd_direction',\n",
       " 'wind_truewindstbd_speed',\n",
       " 'imu_spatialdual_heading',\n",
       " 'imu_spatialdual_headingstddev',\n",
       " 'imu_spatialdual_navigationflag',\n",
       " 'imu_spatialdual_heaveunit',\n",
       " 'imu_spatialdual_heavecog',\n",
       " 'imu_spatialdual_heavestern',\n",
       " 'imu_spatialdual_heavejframe',\n",
       " 'tsg1_fluorometer2_v1',\n",
       " 'tsg1_fluorescence_wetstar',\n",
       " 'tsg1_fluorescence_ecofl']"
      ]
     },
     "execution_count": 2,
     "metadata": {},
     "output_type": "execute_result"
    }
   ],
   "source": [
    "list(uw.columns)"
   ]
  },
  {
   "cell_type": "code",
   "execution_count": 3,
   "metadata": {},
   "outputs": [
    {
     "data": {
      "text/plain": [
       "(0.1488, 3.2917)"
      ]
     },
     "execution_count": 3,
     "metadata": {},
     "output_type": "execute_result"
    }
   ],
   "source": [
    "fl = uw['tsg1_fluorescence_ecofl']\n",
    "fl.min(), fl.max()"
   ]
  },
  {
   "cell_type": "code",
   "execution_count": 4,
   "metadata": {},
   "outputs": [
    {
     "data": {
      "text/plain": [
       "DatetimeIndex(['2018-07-20 00:00:00+00:00', '2018-07-20 00:01:00+00:00',\n",
       "               '2018-07-20 00:02:00+00:00', '2018-07-20 00:03:00+00:00',\n",
       "               '2018-07-20 00:04:00+00:00', '2018-07-20 00:05:00+00:00',\n",
       "               '2018-07-20 00:06:00+00:00', '2018-07-20 00:07:00+00:00',\n",
       "               '2018-07-20 00:08:00+00:00', '2018-07-20 00:09:00+00:00',\n",
       "               ...\n",
       "               '2018-07-25 16:37:00+00:00', '2018-07-25 16:38:00+00:00',\n",
       "               '2018-07-25 16:39:00+00:00', '2018-07-25 16:40:00+00:00',\n",
       "               '2018-07-25 16:41:00+00:00', '2018-07-25 16:42:00+00:00',\n",
       "               '2018-07-25 16:43:00+00:00', '2018-07-25 16:44:00+00:00',\n",
       "               '2018-07-25 16:45:00+00:00', '2018-07-25 16:46:00+00:00'],\n",
       "              dtype='datetime64[ns, UTC]', name='date', length=8227, freq=None)"
      ]
     },
     "execution_count": 4,
     "metadata": {},
     "output_type": "execute_result"
    }
   ],
   "source": [
    "fl.index"
   ]
  },
  {
   "cell_type": "code",
   "execution_count": 5,
   "metadata": {},
   "outputs": [
    {
     "data": {
      "image/png": "[encoded data removed]",
      "text/plain": [
       "<Figure size 432x288 with 1 Axes>"
      ]
     },
     "metadata": {
      "needs_background": "light"
     },
     "output_type": "display_data"
    }
   ],
   "source": [
    "# when plotting a series, pandas uses the index\n",
    "# as x axis labels, which is convenient\n",
    "%matplotlib inline\n",
    "\n",
    "fl.plot();"
   ]
  },
  {
   "cell_type": "code",
   "execution_count": 6,
   "metadata": {},
   "outputs": [
    {
     "name": "stderr",
     "output_type": "stream",
     "text": [
      "C:\\Users\\joefutrelle\\Anaconda2\\envs\\nes-lter-ims-dev\\lib\\site-packages\\pandas\\core\\arrays\\datetimes.py:1172: UserWarning: Converting to PeriodArray/Index representation will drop timezone information.\n",
      "  \"will drop timezone information.\", UserWarning)\n"
     ]
    },
    {
     "data": {
      "image/png": "[encoded data removed]",
      "text/plain": [
       "<Figure size 432x288 with 1 Axes>"
      ]
     },
     "metadata": {
      "needs_background": "light"
     },
     "output_type": "display_data"
    }
   ],
   "source": [
    "# resample into one-hour bins\n",
    "\n",
    "fl.resample('2h').mean().plot();"
   ]
  },
  {
   "cell_type": "code",
   "execution_count": 7,
   "metadata": {},
   "outputs": [
    {
     "data": {
      "image/png": "[encoded data removed]",
      "text/plain": [
       "<Figure size 432x288 with 1 Axes>"
      ]
     },
     "metadata": {
      "needs_background": "light"
     },
     "output_type": "display_data"
    }
   ],
   "source": [
    "# take a rolling mean over a two-hour window\n",
    "\n",
    "fl.rolling('2h').mean().plot();"
   ]
  },
  {
   "cell_type": "code",
   "execution_count": 8,
   "metadata": {},
   "outputs": [
    {
     "data": {
      "image/png": "[encoded data removed]",
      "text/plain": [
       "<Figure size 432x288 with 1 Axes>"
      ]
     },
     "metadata": {
      "needs_background": "light"
     },
     "output_type": "display_data"
    }
   ],
   "source": [
    "fl2 = uw['tsg1_fluorescence_wetstar']\n",
    "\n",
    "fl.plot();\n",
    "fl2.plot();"
   ]
  },
  {
   "cell_type": "code",
   "execution_count": 9,
   "metadata": {},
   "outputs": [
    {
     "data": {
      "text/plain": [
       "0.9691759923688397"
      ]
     },
     "execution_count": 9,
     "metadata": {},
     "output_type": "execute_result"
    }
   ],
   "source": [
    "fl.corr(fl2)"
   ]
  }
 ],
 "metadata": {
  "kernelspec": {
   "display_name": "Python [conda env:nes-lter-ims-dev]",
   "language": "python",
   "name": "conda-env-nes-lter-ims-dev-py"
  },
  "language_info": {
   "codemirror_mode": {
    "name": "ipython",
    "version": 3
   },
   "file_extension": ".py",
   "mimetype": "text/x-python",
   "name": "python",
   "nbconvert_exporter": "python",
   "pygments_lexer": "ipython3",
   "version": "3.6.6"
  }
 },
 "nbformat": 4,
 "nbformat_minor": 2
}
